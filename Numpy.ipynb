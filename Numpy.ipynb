{
 "cells": [
  {
   "cell_type": "code",
   "execution_count": null,
   "metadata": {},
   "outputs": [],
   "source": [
    "#========================================================================================================\n",
    "#     NumPy - First step in Data Analysis\n",
    "#========================================================================================================\n",
    "# @author: Joana Santos Martins"
   ]
  },
  {
   "cell_type": "code",
   "execution_count": null,
   "metadata": {},
   "outputs": [],
   "source": [
    "\"\"\"What is Numpy?\"\"\"\n",
    "\n",
    "# NumPy stands for Numeric Python and is the fundamental library for scientific computing with Python. It \n",
    "#is used to perform mathematical and statistical operations as well as data analysis. This free software \n",
    "#package provides several features that allow the programmer to work with multidimensional arrays and \n",
    "#matrices multiplication, thereby improving performance and execution.\n",
    "# To use NumPy it is necessary to install the package in the system, through pip or Anaconda Python \n",
    "#distribution. The code in this post was developed in Python 3.5 and NumPy, installed with the Anaconda. \n",
    "#Code examples will be presented in Jupyter notebook. In this tutorial, we'll look at some examples of \n",
    "#how the NumPy library can be used to perform a variety of tasks."
   ]
  },
  {
   "cell_type": "code",
   "execution_count": 2,
   "metadata": {},
   "outputs": [],
   "source": [
    "#========================================================================================================\n",
    "#     Package\n",
    "#========================================================================================================\n",
    "# The first step is to import NumPy.\n",
    "# Import numpy as np \n",
    "import numpy as np\n",
    "# Above code renames the NumPy library to np, so whenever we need to access any method of this package, we",
    "#indicate the shortest name (np)."
   ]
  },
  {
   "cell_type": "code",
   "execution_count": 21,
   "metadata": {},
   "outputs": [
    {
     "name": "stdout",
     "output_type": "stream",
     "text": [
      "1.14.3\n"
     ]
    }
   ],
   "source": [
    "# Check installed version:\n",
    "print(np.__version__)"
   ]
  },
  {
   "cell_type": "code",
   "execution_count": 4,
   "metadata": {},
   "outputs": [],
   "source": [
    "#========================================================================================================\n",
    "#     Create a NumPy Array\n",
    "#========================================================================================================\n",
    "# The most common way to create an array is to use a Python list and convert it to a numpy array through the np.array() function.\n",
    "# Python list\n",
    "pythonList = [3, 4, 6, 8, 1, 2]\n",
    "# NumPy array\n",
    "array = np.array(pythonList)\n",
    "# In practice, these two steps can be combined without declaring a Python list. To do this, simply use the np.array() function, \n",
    "#which has as argument the list of values to insert into the array. \n",
    "newArray = np.array([3, 4, 6, 8, 1, 2])"
   ]
  },
  {
   "cell_type": "code",
   "execution_count": 7,
   "metadata": {},
   "outputs": [
    {
     "data": {
      "text/plain": [
       "array([1, 3, 5])"
      ]
     },
     "execution_count": 7,
     "metadata": {},
     "output_type": "execute_result"
    }
   ],
   "source": [
    "# One dimensional array - The function argument corresponds to a single list of values.\n",
    "oneDim = np.array([1, 3, 5])\n",
    "oneDim"
   ]
  },
  {
   "cell_type": "code",
   "execution_count": 8,
   "metadata": {},
   "outputs": [
    {
     "data": {
      "text/plain": [
       "array([[1, 3, 5],\n",
       "       [2, 4, 6]])"
      ]
     },
     "execution_count": 8,
     "metadata": {},
     "output_type": "execute_result"
    }
   ],
   "source": [
    "# Two dimensional array - The function argument corresponds to a list of two lists of values. That is, these two lists are contained\n",
    "#within a larger list (a list of lists).\n",
    "twoDim = np.array([(1, 3, 5), (2, 4, 6)])\n",
    "twoDim"
   ]
  },
  {
   "cell_type": "code",
   "execution_count": 14,
   "metadata": {},
   "outputs": [],
   "source": [
    "# Numpy array with a specific data type\n",
    "# Note that a Numpy array must consist of elements of the same type. Optionally, one of the arguments of the np.array() function can\n",
    "#specify the data type through dtype parameter.\n",
    "# INTEGER\n",
    "intArray = np.array([1, 2, 3], dtype = 'int') \n",
    "#or\n",
    "intArray2 = np.array([1, 2, 3], dtype = np.int64) \n",
    "# FLOAT\n",
    "floatArray = np.array([1, 1.4, 2], dtype = 'float') \n",
    "# These are just a few examples, Numpy supports several types of data in addition to the two mentioned."
   ]
  },
  {
   "cell_type": "code",
   "execution_count": 23,
   "metadata": {},
   "outputs": [
    {
     "data": {
      "text/plain": [
       "array([[0., 0., 0.],\n",
       "       [0., 0., 0.]])"
      ]
     },
     "execution_count": 23,
     "metadata": {},
     "output_type": "execute_result"
    }
   ],
   "source": [
    "# Null array - Array of zeros.\n",
    "# In addition to generating custom arrays with the values chosen by the programmer, Numpy also allows you to generate arrays based \n",
    "#on different methods.\n",
    "# The np.zeros() method creates an array consisting of only zeros. For this, the number of rows and columns is specified, in the \n",
    "#case of a two dimensional array.\n",
    "zerosArray = np.zeros((2, 3))\n",
    "zerosArray"
   ]
  },
  {
   "cell_type": "code",
   "execution_count": 26,
   "metadata": {},
   "outputs": [
    {
     "data": {
      "text/plain": [
       "array([[1, 1, 1],\n",
       "       [1, 1, 1],\n",
       "       [1, 1, 1]])"
      ]
     },
     "execution_count": 26,
     "metadata": {},
     "output_type": "execute_result"
    }
   ],
   "source": [
    "# Array of ones\n",
    "# In the same way, Numpy allows to create one dimensional and two dimensional arrays consisting only of number 1, using the np.ones()\n",
    "onesArray = np.ones((3, 3), dtype = 'int') \n",
    "onesArray"
   ]
  },
  {
   "cell_type": "code",
   "execution_count": 30,
   "metadata": {},
   "outputs": [
    {
     "data": {
      "text/plain": [
       "array([[1, 0, 0],\n",
       "       [0, 1, 0],\n",
       "       [0, 0, 1]])"
      ]
     },
     "execution_count": 30,
     "metadata": {},
     "output_type": "execute_result"
    }
   ],
   "source": [
    "# Identity matrix 3x3 - Array of 0 with 1 on diagonal \n",
    "# The eye() method allows to create an identity matrix, widely used in linear algebra operations.\n",
    "eyeArray = np.eye(3, dtype = 'int')\n",
    "eyeArray"
   ]
  },
  {
   "cell_type": "code",
   "execution_count": 35,
   "metadata": {},
   "outputs": [
    {
     "data": {
      "text/plain": [
       "array([  0.,  25.,  50.,  75., 100.])"
      ]
     },
     "execution_count": 35,
     "metadata": {},
     "output_type": "execute_result"
    }
   ],
   "source": [
    "# Sequence of numbers in one dimensional array\n",
    "# The linspace() method takes three arguments: an initial index, a final index, and the number of linearly spaced numbers in the \n",
    "#specified range.\n",
    "# Array of 5 evenly divided values from 0 to 100.\n",
    "sequenceArray = np.linspace(0, 100, 5) \n",
    "sequenceArray"
   ]
  },
  {
   "cell_type": "code",
   "execution_count": 39,
   "metadata": {},
   "outputs": [
    {
     "data": {
      "text/plain": [
       "array([0, 2, 4, 6, 8])"
      ]
     },
     "execution_count": 39,
     "metadata": {},
     "output_type": "execute_result"
    }
   ],
   "source": [
    "# Array of evenly-spaced values\n",
    "# The linspace() method takes three arguments: an initial index, a final index, and the interval between each number.\n",
    "# Array of values from 0 to less than 10 with step 2.\n",
    "arangeArray = np.arange(0, 10, 2) \n",
    "arangeArray"
   ]
  },
  {
   "cell_type": "code",
   "execution_count": 41,
   "metadata": {},
   "outputs": [
    {
     "data": {
      "text/plain": [
       "array([[5, 5],\n",
       "       [5, 5]])"
      ]
     },
     "execution_count": 41,
     "metadata": {},
     "output_type": "execute_result"
    }
   ],
   "source": [
    "# Constant array\n",
    "# 2x2 array with all values 5\n",
    "fullArray = np.full((2, 2), 5) \n",
    "fullArray"
   ]
  },
  {
   "cell_type": "code",
   "execution_count": 44,
   "metadata": {},
   "outputs": [
    {
     "data": {
      "text/plain": [
       "array([[0.83278785, 0.40133325, 0.26294265],\n",
       "       [0.07416401, 0.80095596, 0.43026833],\n",
       "       [0.73418217, 0.56337086, 0.07335982]])"
      ]
     },
     "execution_count": 44,
     "metadata": {},
     "output_type": "execute_result"
    }
   ],
   "source": [
    "# Array with random values\n",
    "# 3x3 array of random floats between 0-1\n",
    "randomArray = np.random.rand(3, 3) \n",
    "randomArray"
   ]
  },
  {
   "cell_type": "code",
   "execution_count": 52,
   "metadata": {},
   "outputs": [
    {
     "data": {
      "text/plain": [
       "array([[57.28689417, 60.94243653, 76.95566873],\n",
       "       [23.56562152, 50.68314487, 38.72512986],\n",
       "       [32.49635595, 34.40604281, 96.23827747]])"
      ]
     },
     "execution_count": 52,
     "metadata": {},
     "output_type": "execute_result"
    }
   ],
   "source": [
    "# 3x3 array of random floats between 0-100\n",
    "randomArray2 = np.random.rand(3,3) * 100 \n",
    "randomArray2"
   ]
  },
  {
   "cell_type": "code",
   "execution_count": 54,
   "metadata": {},
   "outputs": [
    {
     "data": {
      "text/plain": [
       "array([[8, 5, 2],\n",
       "       [7, 4, 4],\n",
       "       [2, 9, 8]])"
      ]
     },
     "execution_count": 54,
     "metadata": {},
     "output_type": "execute_result"
    }
   ],
   "source": [
    "# 3x3 array with random ints between 0-9\n",
    "randomArray3 = np.random.randint(10, size = (3, 3))\n",
    "randomArray3"
   ]
  },
  {
   "cell_type": "code",
   "execution_count": null,
   "metadata": {},
   "outputs": [],
   "source": [
    "#===================================================================================================================================\n",
    "#     Attributes of a NumPy Array\n",
    "#==================================================================================================================================="
   ]
  },
  {
   "cell_type": "code",
   "execution_count": 4,
   "metadata": {},
   "outputs": [
    {
     "data": {
      "text/plain": [
       "array([26, 43,  5,  1,  7, 19, 36, 13, 22,  6])"
      ]
     },
     "execution_count": 4,
     "metadata": {},
     "output_type": "execute_result"
    }
   ],
   "source": [
    "# Each array has a set of characteristics that can be exploited through Numpy attributes. To analyze these attributes, an example of \n",
    "#a Numpy array created by np.random.randint() will be considered.\n",
    "exampleArray =  np.random.randint(0, 50, 10)\n",
    "exampleArray"
   ]
  },
  {
   "cell_type": "code",
   "execution_count": null,
   "metadata": {},
   "outputs": [],
   "source": [
    "# To access the attributes, a dot is placed after the name of the array, followed by the name of the attribute to be analyzed."
   ]
  },
  {
   "cell_type": "code",
   "execution_count": 5,
   "metadata": {},
   "outputs": [
    {
     "data": {
      "text/plain": [
       "10"
      ]
     },
     "execution_count": 5,
     "metadata": {},
     "output_type": "execute_result"
    }
   ],
   "source": [
    "# Number of array elements\n",
    "exampleArray.size \n",
    "# exampleArray has 5 total elements."
   ]
  },
  {
   "cell_type": "code",
   "execution_count": 6,
   "metadata": {},
   "outputs": [
    {
     "data": {
      "text/plain": [
       "(10,)"
      ]
     },
     "execution_count": 6,
     "metadata": {},
     "output_type": "execute_result"
    }
   ],
   "source": [
    "# Array dimensions (rows, columns)\n",
    "exampleArray.shape \n",
    "# exampleArray has 10 elements along the first axis. "
   ]
  },
  {
   "cell_type": "code",
   "execution_count": 7,
   "metadata": {},
   "outputs": [
    {
     "data": {
      "text/plain": [
       "1"
      ]
     },
     "execution_count": 7,
     "metadata": {},
     "output_type": "execute_result"
    }
   ],
   "source": [
    "# Number of array dimensions\n",
    "exampleArray.ndim\n",
    "# This means is that exampleArray is a one dimensional array."
   ]
  },
  {
   "cell_type": "code",
   "execution_count": 8,
   "metadata": {},
   "outputs": [
    {
     "data": {
      "text/plain": [
       "10"
      ]
     },
     "execution_count": 8,
     "metadata": {},
     "output_type": "execute_result"
    }
   ],
   "source": [
    "# Lenght of array\n",
    "len(exampleArray)"
   ]
  },
  {
   "cell_type": "code",
   "execution_count": 9,
   "metadata": {},
   "outputs": [
    {
     "data": {
      "text/plain": [
       "dtype('int32')"
      ]
     },
     "execution_count": 9,
     "metadata": {},
     "output_type": "execute_result"
    }
   ],
   "source": [
    "# Data type of array elements\n",
    "exampleArray.dtype "
   ]
  },
  {
   "cell_type": "code",
   "execution_count": 10,
   "metadata": {},
   "outputs": [
    {
     "data": {
      "text/plain": [
       "array([26., 43.,  5.,  1.,  7., 19., 36., 13., 22.,  6.])"
      ]
     },
     "execution_count": 10,
     "metadata": {},
     "output_type": "execute_result"
    }
   ],
   "source": [
    "# Convert an array to a different type\n",
    "exampleArray.astype('float') "
   ]
  },
  {
   "cell_type": "code",
   "execution_count": 11,
   "metadata": {},
   "outputs": [
    {
     "data": {
      "text/plain": [
       "[26, 43, 5, 1, 7, 19, 36, 13, 22, 6]"
      ]
     },
     "execution_count": 11,
     "metadata": {},
     "output_type": "execute_result"
    }
   ],
   "source": [
    "# Convert an array to a Python list\n",
    "exampleArray.tolist() "
   ]
  },
  {
   "cell_type": "code",
   "execution_count": null,
   "metadata": {},
   "outputs": [],
   "source": [
    "#===================================================================================================================================\n",
    "#     Manipulate a NumPy Array\n",
    "#==================================================================================================================================="
   ]
  },
  {
   "cell_type": "code",
   "execution_count": 12,
   "metadata": {},
   "outputs": [
    {
     "data": {
      "text/plain": [
       "array([[43,  2, 18,  0, 14, 48],\n",
       "       [28, 29, 43,  5, 19,  2],\n",
       "       [49, 12, 22, 45, 16, 40]])"
      ]
     },
     "execution_count": 12,
     "metadata": {},
     "output_type": "execute_result"
    }
   ],
   "source": [
    "# In this section, we intend to test some methods of manipulating arrays. For this purpose a new two dimensional array example will \n",
    "# be considered.\n",
    "exampleArray2 = np.random.randint(50, size = (3, 6))\n",
    "exampleArray2"
   ]
  },
  {
   "cell_type": "code",
   "execution_count": 13,
   "metadata": {},
   "outputs": [
    {
     "data": {
      "text/plain": [
       "array([[43,  2, 18,  0, 14, 48],\n",
       "       [28, 29, 43,  5, 19,  2],\n",
       "       [49, 12, 22, 45, 16, 40]])"
      ]
     },
     "execution_count": 13,
     "metadata": {},
     "output_type": "execute_result"
    }
   ],
   "source": [
    "# COPY\n",
    "# Copy of the array to a new memory\n",
    "copyArray = np.copy(exampleArray2)\n",
    "copyArray"
   ]
  },
  {
   "cell_type": "code",
   "execution_count": 14,
   "metadata": {},
   "outputs": [
    {
     "data": {
      "text/plain": [
       "array([[43,  2, 18,  0, 14, 48],\n",
       "       [28, 29, 43,  5, 19,  2],\n",
       "       [49, 12, 22, 45, 16, 40]])"
      ]
     },
     "execution_count": 14,
     "metadata": {},
     "output_type": "execute_result"
    }
   ],
   "source": [
    "# Deep copy of the array \n",
    "copyArray2 = exampleArray2.copy()\n",
    "copyArray2"
   ]
  },
  {
   "cell_type": "code",
   "execution_count": 15,
   "metadata": {},
   "outputs": [
    {
     "data": {
      "text/plain": [
       "array([[43,  2, 18,  0, 14, 48],\n",
       "       [28, 29, 43,  5, 19,  2],\n",
       "       [49, 12, 22, 45, 16, 40]])"
      ]
     },
     "execution_count": 15,
     "metadata": {},
     "output_type": "execute_result"
    }
   ],
   "source": [
    "# View of the array with the same data\n",
    "viewArray = exampleArray2.view() \n",
    "viewArray"
   ]
  },
  {
   "cell_type": "code",
   "execution_count": 16,
   "metadata": {},
   "outputs": [
    {
     "data": {
      "text/plain": [
       "array([[28,  2, 18,  0, 14,  2],\n",
       "       [43, 12, 22,  5, 16, 40],\n",
       "       [49, 29, 43, 45, 19, 48]])"
      ]
     },
     "execution_count": 16,
     "metadata": {},
     "output_type": "execute_result"
    }
   ],
   "source": [
    "# SORT\n",
    "# Sort the elements of an array's axis\n",
    "exampleArray2.sort(axis = 0)\n",
    "exampleArray2"
   ]
  },
  {
   "cell_type": "code",
   "execution_count": 17,
   "metadata": {},
   "outputs": [
    {
     "data": {
      "text/plain": [
       "array([[ 0,  2,  2, 14, 18, 28],\n",
       "       [ 5, 12, 16, 22, 40, 43],\n",
       "       [19, 29, 43, 45, 48, 49]])"
      ]
     },
     "execution_count": 17,
     "metadata": {},
     "output_type": "execute_result"
    }
   ],
   "source": [
    "# Sort an array\n",
    "exampleArray2.sort()\n",
    "exampleArray2"
   ]
  },
  {
   "cell_type": "code",
   "execution_count": 18,
   "metadata": {},
   "outputs": [
    {
     "data": {
      "text/plain": [
       "array([[ 0,  5, 19],\n",
       "       [ 2, 12, 29],\n",
       "       [ 2, 16, 43],\n",
       "       [14, 22, 45],\n",
       "       [18, 40, 48],\n",
       "       [28, 43, 49]])"
      ]
     },
     "execution_count": 18,
     "metadata": {},
     "output_type": "execute_result"
    }
   ],
   "source": [
    "# TRANSPOSE\n",
    "# Permute array dimensions (rows become columns and vice versa)\n",
    "exampleArray2.T"
   ]
  },
  {
   "cell_type": "code",
   "execution_count": 19,
   "metadata": {},
   "outputs": [
    {
     "data": {
      "text/plain": [
       "array([[ 0,  5, 19],\n",
       "       [ 2, 12, 29],\n",
       "       [ 2, 16, 43],\n",
       "       [14, 22, 45],\n",
       "       [18, 40, 48],\n",
       "       [28, 43, 49]])"
      ]
     },
     "execution_count": 19,
     "metadata": {},
     "output_type": "execute_result"
    }
   ],
   "source": [
    "# Permute array dimensions (rows become columns and vice versa)\n",
    "transposeArray = np.transpose(exampleArray2)\n",
    "transposeArray"
   ]
  },
  {
   "cell_type": "code",
   "execution_count": 20,
   "metadata": {},
   "outputs": [
    {
     "data": {
      "text/plain": [
       "array([[ 0,  2,  2],\n",
       "       [14, 18, 28],\n",
       "       [ 5, 12, 16],\n",
       "       [22, 40, 43],\n",
       "       [19, 29, 43],\n",
       "       [45, 48, 49]])"
      ]
     },
     "execution_count": 20,
     "metadata": {},
     "output_type": "execute_result"
    }
   ],
   "source": [
    "# RESHAPE (Change array shape)\n",
    "# The reshape() method consists in changing the organization of the elements, thus altering the shape of the array, but maintaining \n",
    "#the same number of dimensions. For example, reshape() allows the conversion of one dimensional array into a two dimensional array.\n",
    "# Reshape the array to 6 rows, 3 columns without changing data\n",
    "exampleArray2.reshape(6,3)"
   ]
  },
  {
   "cell_type": "code",
   "execution_count": 21,
   "metadata": {},
   "outputs": [
    {
     "data": {
      "text/plain": [
       "array([ 0,  2,  2, 14, 18, 28,  5, 12, 16, 22, 40, 43, 19, 29, 43, 45, 48,\n",
       "       49])"
      ]
     },
     "execution_count": 21,
     "metadata": {},
     "output_type": "execute_result"
    }
   ],
   "source": [
    "# FLATTEN (Change array shape)\n",
    "# The flatten() method converts a multidimensional array into one dimensional array.\n",
    "flattenArray = exampleArray2.flatten() \n",
    "flattenArray"
   ]
  },
  {
   "cell_type": "code",
   "execution_count": 22,
   "metadata": {},
   "outputs": [
    {
     "data": {
      "text/plain": [
       "array([ 0,  2,  2, 14, 18, 28,  5, 12, 16, 22, 40, 43, 19, 29, 43, 45, 48,\n",
       "       49])"
      ]
     },
     "execution_count": 22,
     "metadata": {},
     "output_type": "execute_result"
    }
   ],
   "source": [
    "# The ravel() method also converts a multidimensional array into one dimensional array.\n",
    "ravelArray = exampleArray2.ravel() \n",
    "ravelArray "
   ]
  },
  {
   "cell_type": "code",
   "execution_count": 136,
   "metadata": {},
   "outputs": [],
   "source": [
    "# Difference between flatten() and ravel()\n",
    "# Both are methods responsible for implementing flattening of arrays. The difference between flatten() and ravel() is that the new \n",
    "#array created through ravel() consists of a reference to the parent array. This way, any changes to the new array will affect the \n",
    "#parent too, without creating a copy. As shown in the following example:"
   ]
  },
  {
   "cell_type": "code",
   "execution_count": 23,
   "metadata": {},
   "outputs": [
    {
     "data": {
      "text/plain": [
       "array([ 5,  2,  2, 14, 18, 28,  5, 12, 16, 22, 40, 43, 19, 29, 43, 45, 48,\n",
       "       49])"
      ]
     },
     "execution_count": 23,
     "metadata": {},
     "output_type": "execute_result"
    }
   ],
   "source": [
    "#New array created with flatten()\n",
    "# Change the new array created with flatten()\n",
    "flattenArray[0] = 5\n",
    "flattenArray"
   ]
  },
  {
   "cell_type": "code",
   "execution_count": 24,
   "metadata": {},
   "outputs": [
    {
     "data": {
      "text/plain": [
       "array([[ 0,  2,  2, 14, 18, 28],\n",
       "       [ 5, 12, 16, 22, 40, 43],\n",
       "       [19, 29, 43, 45, 48, 49]])"
      ]
     },
     "execution_count": 24,
     "metadata": {},
     "output_type": "execute_result"
    }
   ],
   "source": [
    "# Parent array after changing the new array (flattenArray)\n",
    "exampleArray2"
   ]
  },
  {
   "cell_type": "code",
   "execution_count": 25,
   "metadata": {},
   "outputs": [
    {
     "data": {
      "text/plain": [
       "array([ 5,  2,  2, 14, 18, 28,  5, 12, 16, 22, 40, 43, 19, 29, 43, 45, 48,\n",
       "       49])"
      ]
     },
     "execution_count": 25,
     "metadata": {},
     "output_type": "execute_result"
    }
   ],
   "source": [
    "# Change the new array created with ravel()\n",
    "ravelArray[0] = 5\n",
    "ravelArray "
   ]
  },
  {
   "cell_type": "code",
   "execution_count": 26,
   "metadata": {},
   "outputs": [
    {
     "data": {
      "text/plain": [
       "array([[ 5,  2,  2, 14, 18, 28],\n",
       "       [ 5, 12, 16, 22, 40, 43],\n",
       "       [19, 29, 43, 45, 48, 49]])"
      ]
     },
     "execution_count": 26,
     "metadata": {},
     "output_type": "execute_result"
    }
   ],
   "source": [
    "# Parent array after changing the new array (ravelArray)\n",
    "exampleArray2"
   ]
  },
  {
   "cell_type": "code",
   "execution_count": 27,
   "metadata": {},
   "outputs": [
    {
     "data": {
      "text/plain": [
       "array([[ 5,  2,  2],\n",
       "       [14, 18, 28],\n",
       "       [ 5, 12, 16],\n",
       "       [22, 40, 43],\n",
       "       [19, 29, 43],\n",
       "       [45, 48, 49]])"
      ]
     },
     "execution_count": 27,
     "metadata": {},
     "output_type": "execute_result"
    }
   ],
   "source": [
    "# RESIZE\n",
    "# Change array shape to 6x3 \n",
    "exampleArray2.resize((6,3)) \n",
    "exampleArray2"
   ]
  },
  {
   "cell_type": "code",
   "execution_count": 28,
   "metadata": {},
   "outputs": [
    {
     "data": {
      "text/plain": [
       "array([ 5,  2,  2, 14, 18, 28,  5, 12, 16, 22, 40, 43, 19, 29, 43, 45, 48,\n",
       "       49,  1,  4,  8])"
      ]
     },
     "execution_count": 28,
     "metadata": {},
     "output_type": "execute_result"
    }
   ],
   "source": [
    "# APPEND\n",
    "# Append values to end of array\n",
    "# Syntax of NumPy append:\n",
    "    # arr = original array to append the new values\n",
    "    # values = new values to append to the original array  \n",
    "    # axis = axis along which append the new values (optional)\n",
    "np.append(arr = exampleArray2, values =  [1, 4, 8]) "
   ]
  },
  {
   "cell_type": "code",
   "execution_count": 29,
   "metadata": {},
   "outputs": [
    {
     "data": {
      "text/plain": [
       "array([ 1,  4,  8,  5,  2,  2, 14, 18, 28,  5, 12, 16, 22, 40, 43, 19, 29,\n",
       "       43, 45, 48, 49])"
      ]
     },
     "execution_count": 29,
     "metadata": {},
     "output_type": "execute_result"
    }
   ],
   "source": [
    "# INSERT\n",
    "# Insert values into array before index 0\n",
    "np.insert(arr = exampleArray2, obj = 0, values =  [1, 4, 8]) "
   ]
  },
  {
   "cell_type": "code",
   "execution_count": 30,
   "metadata": {},
   "outputs": [
    {
     "data": {
      "text/plain": [
       "array([[14, 18, 28],\n",
       "       [ 5, 12, 16],\n",
       "       [22, 40, 43],\n",
       "       [19, 29, 43],\n",
       "       [45, 48, 49]])"
      ]
     },
     "execution_count": 30,
     "metadata": {},
     "output_type": "execute_result"
    }
   ],
   "source": [
    "# DELETE\n",
    "# Delete row on index 3 of array\n",
    "np.delete(arr = exampleArray2, obj = 0, axis = 0)"
   ]
  },
  {
   "cell_type": "code",
   "execution_count": 35,
   "metadata": {},
   "outputs": [
    {
     "data": {
      "text/plain": [
       "array([[44, 41, 40, 31],\n",
       "       [46,  6, 21, 26],\n",
       "       [19, 21, 32, 17]])"
      ]
     },
     "execution_count": 35,
     "metadata": {},
     "output_type": "execute_result"
    }
   ],
   "source": [
    "# CONCATENATE\n",
    "# This method allows to join 2 arrays\n",
    "# This method allows to join 2 arrays. In this example 2 new arrays with the same dimensions will be created.\n",
    "exampleArray3 = np.random.randint(50, size = (3, 4))\n",
    "exampleArray3"
   ]
  },
  {
   "cell_type": "code",
   "execution_count": 36,
   "metadata": {},
   "outputs": [
    {
     "data": {
      "text/plain": [
       "array([[ 2, 48, 22, 37],\n",
       "       [10, 40, 10, 46],\n",
       "       [48,  7, 38,  5]])"
      ]
     },
     "execution_count": 36,
     "metadata": {},
     "output_type": "execute_result"
    }
   ],
   "source": [
    "exampleArray4 = np.random.randint(50, size = (3, 4))\n",
    "exampleArray4"
   ]
  },
  {
   "cell_type": "code",
   "execution_count": 37,
   "metadata": {},
   "outputs": [
    {
     "data": {
      "text/plain": [
       "array([[44, 41, 40, 31],\n",
       "       [46,  6, 21, 26],\n",
       "       [19, 21, 32, 17],\n",
       "       [ 2, 48, 22, 37],\n",
       "       [10, 40, 10, 46],\n",
       "       [48,  7, 38,  5]])"
      ]
     },
     "execution_count": 37,
     "metadata": {},
     "output_type": "execute_result"
    }
   ],
   "source": [
    "# Adds exampleArray4 as rows to the end of exampleArray3\n",
    "np.concatenate((exampleArray3, exampleArray4), axis = 0)"
   ]
  },
  {
   "cell_type": "code",
   "execution_count": 38,
   "metadata": {},
   "outputs": [
    {
     "data": {
      "text/plain": [
       "array([[44, 41, 40, 31,  2, 48, 22, 37],\n",
       "       [46,  6, 21, 26, 10, 40, 10, 46],\n",
       "       [19, 21, 32, 17, 48,  7, 38,  5]])"
      ]
     },
     "execution_count": 38,
     "metadata": {},
     "output_type": "execute_result"
    }
   ],
   "source": [
    "# Adds exampleArray4 as columns to end of exampleArray3\n",
    "np.concatenate((exampleArray3, exampleArray4), axis = 1)"
   ]
  },
  {
   "cell_type": "code",
   "execution_count": 40,
   "metadata": {},
   "outputs": [
    {
     "data": {
      "text/plain": [
       "[array([[44, 41, 40, 31]]),\n",
       " array([[46,  6, 21, 26]]),\n",
       " array([[19, 21, 32, 17]])]"
      ]
     },
     "execution_count": 40,
     "metadata": {},
     "output_type": "execute_result"
    }
   ],
   "source": [
    "# SPLIT\n",
    "# Splits exampleArray3 into 3 sub-arrays\n",
    "np.split(exampleArray3, 3)"
   ]
  },
  {
   "cell_type": "code",
   "execution_count": 45,
   "metadata": {},
   "outputs": [
    {
     "data": {
      "text/plain": [
       "[array([[44, 41],\n",
       "        [46,  6],\n",
       "        [19, 21]]), array([[40, 31],\n",
       "        [21, 26],\n",
       "        [32, 17]])]"
      ]
     },
     "execution_count": 45,
     "metadata": {},
     "output_type": "execute_result"
    }
   ],
   "source": [
    "# Splits exampleArray3 horizontally on the second index\n",
    "np.hsplit(exampleArray3, 2)"
   ]
  },
  {
   "cell_type": "code",
   "execution_count": 47,
   "metadata": {},
   "outputs": [
    {
     "data": {
      "text/plain": [
       "[array([[44, 41, 40, 31]]),\n",
       " array([[46,  6, 21, 26]]),\n",
       " array([[19, 21, 32, 17]])]"
      ]
     },
     "execution_count": 47,
     "metadata": {},
     "output_type": "execute_result"
    }
   ],
   "source": [
    "# Splits exampleArray3 vertically on the third index\n",
    "np.vsplit(exampleArray3, 3)"
   ]
  },
  {
   "cell_type": "code",
   "execution_count": null,
   "metadata": {},
   "outputs": [],
   "source": [
    "#===================================================================================================================================\n",
    "#     Index/slice/subset a NumPy Array\n",
    "#==================================================================================================================================="
   ]
  },
  {
   "cell_type": "code",
   "execution_count": 51,
   "metadata": {},
   "outputs": [
    {
     "data": {
      "text/plain": [
       "5"
      ]
     },
     "execution_count": 51,
     "metadata": {},
     "output_type": "execute_result"
    }
   ],
   "source": [
    "# To access an element of an array, its index number is used. Like the Python lists, NumPy arrays are indexed with zero. For example,\n",
    "#the third element of the array has an index equal to two.\n",
    "# Returns the element at index 2\n",
    "exampleArray[2]\n",
    "# In this example, the third element (second index) corresponds to the digit 5."
   ]
  },
  {
   "cell_type": "code",
   "execution_count": 52,
   "metadata": {},
   "outputs": [
    {
     "data": {
      "text/plain": [
       "21"
      ]
     },
     "execution_count": 52,
     "metadata": {},
     "output_type": "execute_result"
    }
   ],
   "source": [
    "# Like 1-D arrays, the two-dimensional NumPy arrays also follow the zero-based index, that is, to access an element of the array it \n",
    "#is necessary to consider the first row and the first column with an index equal to zero.\n",
    "# Returns the 2D array element on index [2][1]\n",
    "exampleArray3[2, 1]\n",
    "# The digit 21 will be returned as the element present in the second row and first column of the array."
   ]
  },
  {
   "cell_type": "code",
   "execution_count": 60,
   "metadata": {},
   "outputs": [
    {
     "data": {
      "text/plain": [
       "array([10,  4,  5,  1,  7, 19, 36, 13, 22,  6])"
      ]
     },
     "execution_count": 60,
     "metadata": {},
     "output_type": "execute_result"
    }
   ],
   "source": [
    "# To replace an element in the array, consider its index and assign the new value.\n",
    "# Assigns array element on index 0 the value 10\n",
    "exampleArray[0] = 10\n",
    "exampleArray"
   ]
  },
  {
   "cell_type": "code",
   "execution_count": 58,
   "metadata": {},
   "outputs": [
    {
     "data": {
      "text/plain": [
       "array([[44, 41, 40, 31],\n",
       "       [46,  6, 21, 11],\n",
       "       [19, 21, 32,  0]])"
      ]
     },
     "execution_count": 58,
     "metadata": {},
     "output_type": "execute_result"
    }
   ],
   "source": [
    "# Assigns array element on index [2][3] the value 0\n",
    "exampleArray3[2, 3] = 0 \n",
    "exampleArray3"
   ]
  },
  {
   "cell_type": "code",
   "execution_count": null,
   "metadata": {},
   "outputs": [],
   "source": [
    "# Returns the elements at indices 0,1,2 (On a 2D array: returns rows 0,1,2)\n",
    "arr[0:3]"
   ]
  },
  {
   "cell_type": "code",
   "execution_count": null,
   "metadata": {},
   "outputs": [],
   "source": [
    "# Returns the elements on rows 0,1,2 at column 4\n",
    "arr[0:3, 4] "
   ]
  },
  {
   "cell_type": "code",
   "execution_count": null,
   "metadata": {},
   "outputs": [],
   "source": [
    "# Returns the elements at indices 0,1 (On a 2D array: returns rows 0,1)\n",
    "arr[:2] "
   ]
  },
  {
   "cell_type": "code",
   "execution_count": null,
   "metadata": {},
   "outputs": [],
   "source": [
    "# Returns the elements at index 1 on all rows\n",
    "arr[:, 1]"
   ]
  },
  {
   "cell_type": "code",
   "execution_count": null,
   "metadata": {},
   "outputs": [],
   "source": [
    "# Returns an array with boolean values\n",
    "arr < 5 "
   ]
  },
  {
   "cell_type": "code",
   "execution_count": null,
   "metadata": {},
   "outputs": [],
   "source": [
    "# Returns an array with boolean values\n",
    "(arr1 < 3) & (arr2 > 5)"
   ]
  },
  {
   "cell_type": "code",
   "execution_count": null,
   "metadata": {},
   "outputs": [],
   "source": [
    "# Inverts a boolean array\n",
    "~arr "
   ]
  },
  {
   "cell_type": "code",
   "execution_count": null,
   "metadata": {},
   "outputs": [],
   "source": [
    "# Returns array elements smaller than 5\n",
    "arr[arr < 5]"
   ]
  },
  {
   "cell_type": "code",
   "execution_count": null,
   "metadata": {},
   "outputs": [],
   "source": []
  }
 ],
 "metadata": {
  "kernelspec": {
   "display_name": "Python 3",
   "language": "python",
   "name": "python3"
  },
  "language_info": {
   "codemirror_mode": {
    "name": "ipython",
    "version": 3
   },
   "file_extension": ".py",
   "mimetype": "text/x-python",
   "name": "python",
   "nbconvert_exporter": "python",
   "pygments_lexer": "ipython3",
   "version": "3.6.5"
  }
 },
 "nbformat": 4,
 "nbformat_minor": 2
}
