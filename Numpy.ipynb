{
 "cells": [
  {
   "cell_type": "code",
   "execution_count": null,
   "metadata": {},
   "outputs": [],
   "source": [
    "#========================================================================================================\n",
    "#     NumPy - First step in Data Analysis\n",
    "#========================================================================================================\n",
    "# @author: Joana Santos Martins"
   ]
  },
  {
   "cell_type": "code",
   "execution_count": null,
   "metadata": {},
   "outputs": [],
   "source": [
    "\"\"\"What is Numpy?\"\"\"\n",
    "\n",
    "# NumPy stands for Numeric Python and is the fundamental library for scientific computing with Python. It \n",
    "#is used to perform mathematical and statistical operations as well as data analysis. This free software \n",
    "#package provides several features that allow the programmer to work with multidimensional arrays and \n",
    "#matrices multiplication, thereby improving performance and execution. \n",
    "# To use NumPy it is necessary to install the package in the system, through pip or Anaconda Python \n",
    "#distribution. The code in this post was developed in Python 3.5 and NumPy, installed with the Anaconda. \n",
    "#Code examples will be presented in Jupyter notebook. In this tutorial, we'll look at some examples of \n",
    "#how the NumPy library can be used to perform a variety of tasks."
   ]
  },
  {
   "cell_type": "code",
   "execution_count": 1,
   "metadata": {},
   "outputs": [],
   "source": [
    "#========================================================================================================\n",
    "#     Package\n",
    "#========================================================================================================\n",
    "# The first step is to import NumPy.\n",
    "# Import numpy as np \n",
    "import numpy as np\n",
    "# Above code renames the NumPy library to np, so whenever we need to access any method of this package, \n",
    "#we indicate the shortest name (np)."
   ]
  },
  {
   "cell_type": "code",
   "execution_count": 2,
   "metadata": {},
   "outputs": [
    {
     "name": "stdout",
     "output_type": "stream",
     "text": [
      "1.14.3\n"
     ]
    }
   ],
   "source": [
    "# Check installed version:\n",
    "print(np.__version__)"
   ]
  },
  {
   "cell_type": "code",
   "execution_count": 3,
   "metadata": {},
   "outputs": [],
   "source": [
    "#========================================================================================================\n",
    "#     Create a NumPy Array\n",
    "#========================================================================================================\n",
    "# The most common way to create an array is to use a Python list and convert it to a numpy array through \n",
    "#the np.array() function.\n",
    "# Python list\n",
    "pythonList = [3, 4, 6, 8, 1, 2]\n",
    "# NumPy array\n",
    "array = np.array(pythonList)\n",
    "# In practice, these two steps can be combined without declaring a Python list. To do this, simply use \n",
    "#the np.array() function, which has as argument the list of values to insert into the array. \n",
    "newArray = np.array([3, 4, 6, 8, 1, 2])"
   ]
  },
  {
   "cell_type": "code",
   "execution_count": 4,
   "metadata": {},
   "outputs": [
    {
     "data": {
      "text/plain": [
       "array([1, 3, 5])"
      ]
     },
     "execution_count": 4,
     "metadata": {},
     "output_type": "execute_result"
    }
   ],
   "source": [
    "# One dimensional array - The function argument corresponds to a single list of values.\n",
    "oneDim = np.array([1, 3, 5])\n",
    "oneDim"
   ]
  },
  {
   "cell_type": "code",
   "execution_count": 5,
   "metadata": {},
   "outputs": [
    {
     "data": {
      "text/plain": [
       "array([[1, 3, 5],\n",
       "       [2, 4, 6]])"
      ]
     },
     "execution_count": 5,
     "metadata": {},
     "output_type": "execute_result"
    }
   ],
   "source": [
    "# Two dimensional array - The function argument corresponds to a list of two lists of values. That is, \n",
    "#these two lists are contained within a larger list (a list of lists).\n",
    "twoDim = np.array([(1, 3, 5), (2, 4, 6)])\n",
    "twoDim"
   ]
  },
  {
   "cell_type": "code",
   "execution_count": 6,
   "metadata": {},
   "outputs": [],
   "source": [
    "# Numpy array with a specific data type\n",
    "# Note that a Numpy array must consist of elements of the same type. Optionally, one of the arguments of \n",
    "#the np.array() function can specify the data type through dtype parameter.\n",
    "# INTEGER\n",
    "intArray = np.array([1, 2, 3], dtype = 'int') \n",
    "#or\n",
    "intArray2 = np.array([1, 2, 3], dtype = np.int64) \n",
    "# FLOAT\n",
    "floatArray = np.array([1, 1.4, 2], dtype = 'float') \n",
    "# These are just a few examples, Numpy supports several types of data in addition to the two mentioned."
   ]
  },
  {
   "cell_type": "code",
   "execution_count": 7,
   "metadata": {},
   "outputs": [
    {
     "data": {
      "text/plain": [
       "array([[0., 0., 0.],\n",
       "       [0., 0., 0.]])"
      ]
     },
     "execution_count": 7,
     "metadata": {},
     "output_type": "execute_result"
    }
   ],
   "source": [
    "# Null array - Array of zeros.\n",
    "# In addition to generating custom arrays with the values chosen by the programmer, Numpy also allows you \n",
    "#to generate arrays based on different methods.\n",
    "# The np.zeros() method creates an array consisting of only zeros. For this, the number of rows and \n",
    "#columns is specified, in the case of a two dimensional array.\n",
    "zerosArray = np.zeros((2, 3))\n",
    "zerosArray"
   ]
  },
  {
   "cell_type": "code",
   "execution_count": 8,
   "metadata": {},
   "outputs": [
    {
     "data": {
      "text/plain": [
       "array([[1, 1, 1],\n",
       "       [1, 1, 1],\n",
       "       [1, 1, 1]])"
      ]
     },
     "execution_count": 8,
     "metadata": {},
     "output_type": "execute_result"
    }
   ],
   "source": [
    "# Array of ones\n",
    "# In the same way, Numpy allows to create one dimensional and two dimensional arrays consisting only of \n",
    "#number 1, using the np.ones()\n",
    "onesArray = np.ones((3, 3), dtype = 'int') \n",
    "onesArray"
   ]
  },
  {
   "cell_type": "code",
   "execution_count": 9,
   "metadata": {},
   "outputs": [
    {
     "data": {
      "text/plain": [
       "array([[1, 0, 0],\n",
       "       [0, 1, 0],\n",
       "       [0, 0, 1]])"
      ]
     },
     "execution_count": 9,
     "metadata": {},
     "output_type": "execute_result"
    }
   ],
   "source": [
    "# Identity matrix 3x3 - Array of 0 with 1 on diagonal \n",
    "# The eye() method allows to create an identity matrix, widely used in linear algebra operations.\n",
    "eyeArray = np.eye(3, dtype = 'int')\n",
    "eyeArray"
   ]
  },
  {
   "cell_type": "code",
   "execution_count": 10,
   "metadata": {},
   "outputs": [
    {
     "data": {
      "text/plain": [
       "array([  0.,  25.,  50.,  75., 100.])"
      ]
     },
     "execution_count": 10,
     "metadata": {},
     "output_type": "execute_result"
    }
   ],
   "source": [
    "# Sequence of numbers in one dimensional array\n",
    "# The linspace() method takes three arguments: an initial index, a final index, and the number of \n",
    "#linearly spaced numbers in the specified range.\n",
    "# Array of 5 evenly divided values from 0 to 100.\n",
    "sequenceArray = np.linspace(0, 100, 5) \n",
    "sequenceArray"
   ]
  },
  {
   "cell_type": "code",
   "execution_count": 11,
   "metadata": {},
   "outputs": [
    {
     "data": {
      "text/plain": [
       "array([0, 2, 4, 6, 8])"
      ]
     },
     "execution_count": 11,
     "metadata": {},
     "output_type": "execute_result"
    }
   ],
   "source": [
    "# Array of evenly-spaced values\n",
    "# The linspace() method takes three arguments: an initial index, a final index, and the interval between \n",
    "#each number. \n",
    "# Array of values from 0 to less than 10 with step 2.\n",
    "arangeArray = np.arange(0, 10, 2) \n",
    "arangeArray"
   ]
  },
  {
   "cell_type": "code",
   "execution_count": 12,
   "metadata": {},
   "outputs": [
    {
     "data": {
      "text/plain": [
       "array([[5, 5],\n",
       "       [5, 5]])"
      ]
     },
     "execution_count": 12,
     "metadata": {},
     "output_type": "execute_result"
    }
   ],
   "source": [
    "# Constant array\n",
    "# 2x2 array with all values 5\n",
    "fullArray = np.full((2, 2), 5) \n",
    "fullArray"
   ]
  },
  {
   "cell_type": "code",
   "execution_count": 13,
   "metadata": {},
   "outputs": [
    {
     "data": {
      "text/plain": [
       "array([[0.19051233, 0.03533116, 0.47172349],\n",
       "       [0.16229776, 0.57875799, 0.66099124],\n",
       "       [0.38557135, 0.26095156, 0.26963973]])"
      ]
     },
     "execution_count": 13,
     "metadata": {},
     "output_type": "execute_result"
    }
   ],
   "source": [
    "# Array with random values\n",
    "# 3x3 array of random floats between 0-1\n",
    "randomArray = np.random.rand(3, 3) \n",
    "randomArray"
   ]
  },
  {
   "cell_type": "code",
   "execution_count": 14,
   "metadata": {},
   "outputs": [
    {
     "data": {
      "text/plain": [
       "array([[13.80123633, 95.61213827, 23.90626514],\n",
       "       [15.47027928, 65.49241653, 14.62187917],\n",
       "       [22.95599527, 29.74247541, 36.59873643]])"
      ]
     },
     "execution_count": 14,
     "metadata": {},
     "output_type": "execute_result"
    }
   ],
   "source": [
    "# 3x3 array of random floats between 0-100\n",
    "randomArray2 = np.random.rand(3,3) * 100 \n",
    "randomArray2"
   ]
  },
  {
   "cell_type": "code",
   "execution_count": 15,
   "metadata": {},
   "outputs": [
    {
     "data": {
      "text/plain": [
       "array([[4, 1, 7],\n",
       "       [4, 1, 3],\n",
       "       [1, 6, 8]])"
      ]
     },
     "execution_count": 15,
     "metadata": {},
     "output_type": "execute_result"
    }
   ],
   "source": [
    "# 3x3 array with random ints between 0-9\n",
    "randomArray3 = np.random.randint(10, size = (3, 3))\n",
    "randomArray3"
   ]
  },
  {
   "cell_type": "code",
   "execution_count": null,
   "metadata": {},
   "outputs": [],
   "source": [
    "#========================================================================================================\n",
    "#     Attributes of a NumPy Array\n",
    "#========================================================================================================"
   ]
  },
  {
   "cell_type": "code",
   "execution_count": 16,
   "metadata": {},
   "outputs": [
    {
     "data": {
      "text/plain": [
       "array([ 7, 29, 28, 35,  8, 30, 37, 16, 34,  8])"
      ]
     },
     "execution_count": 16,
     "metadata": {},
     "output_type": "execute_result"
    }
   ],
   "source": [
    "# Each array has a set of characteristics that can be exploited through Numpy attributes. To analyze \n",
    "#these attributes, an example of a Numpy array created by np.random.randint() will be considered.\n",
    "exampleArray =  np.random.randint(0, 50, 10)\n",
    "exampleArray"
   ]
  },
  {
   "cell_type": "code",
   "execution_count": null,
   "metadata": {},
   "outputs": [],
   "source": [
    "# To access the attributes, a dot is placed after the name of the array, followed by the name of the \n", 
    "#attribute to be analyzed."
   ]
  },
  {
   "cell_type": "code",
   "execution_count": 17,
   "metadata": {},
   "outputs": [
    {
     "data": {
      "text/plain": [
       "10"
      ]
     },
     "execution_count": 17,
     "metadata": {},
     "output_type": "execute_result"
    }
   ],
   "source": [
    "# Number of array elements\n",
    "exampleArray.size \n",
    "# exampleArray has 5 total elements."
   ]
  },
  {
   "cell_type": "code",
   "execution_count": 18,
   "metadata": {},
   "outputs": [
    {
     "data": {
      "text/plain": [
       "(10,)"
      ]
     },
     "execution_count": 18,
     "metadata": {},
     "output_type": "execute_result"
    }
   ],
   "source": [
    "# Array dimensions (rows, columns)\n",
    "exampleArray.shape \n",
    "# exampleArray has 10 elements along the first axis. "
   ]
  },
  {
   "cell_type": "code",
   "execution_count": 19,
   "metadata": {},
   "outputs": [
    {
     "data": {
      "text/plain": [
       "1"
      ]
     },
     "execution_count": 19,
     "metadata": {},
     "output_type": "execute_result"
    }
   ],
   "source": [
    "# Number of array dimensions\n",
    "exampleArray.ndim\n",
    "# This means is that exampleArray is a one dimensional array."
   ]
  },
  {
   "cell_type": "code",
   "execution_count": 20,
   "metadata": {},
   "outputs": [
    {
     "data": {
      "text/plain": [
       "10"
      ]
     },
     "execution_count": 20,
     "metadata": {},
     "output_type": "execute_result"
    }
   ],
   "source": [
    "# Lenght of array\n",
    "len(exampleArray)"
   ]
  },
  {
   "cell_type": "code",
   "execution_count": 21,
   "metadata": {},
   "outputs": [
    {
     "data": {
      "text/plain": [
       "dtype('int32')"
      ]
     },
     "execution_count": 21,
     "metadata": {},
     "output_type": "execute_result"
    }
   ],
   "source": [
    "# Data type of array elements\n",
    "exampleArray.dtype "
   ]
  },
  {
   "cell_type": "code",
   "execution_count": 22,
   "metadata": {},
   "outputs": [
    {
     "data": {
      "text/plain": [
       "array([ 7., 29., 28., 35.,  8., 30., 37., 16., 34.,  8.])"
      ]
     },
     "execution_count": 22,
     "metadata": {},
     "output_type": "execute_result"
    }
   ],
   "source": [
    "# Convert an array to a different type\n",
    "exampleArray.astype('float') "
   ]
  },
  {
   "cell_type": "code",
   "execution_count": 23,
   "metadata": {},
   "outputs": [
    {
     "data": {
      "text/plain": [
       "[7, 29, 28, 35, 8, 30, 37, 16, 34, 8]"
      ]
     },
     "execution_count": 23,
     "metadata": {},
     "output_type": "execute_result"
    }
   ],
   "source": [
    "# Convert an array to a Python list\n",
    "exampleArray.tolist() "
   ]
  },
  {
   "cell_type": "code",
   "execution_count": null,
   "metadata": {},
   "outputs": [],
   "source": [
    "#========================================================================================================\n",
    "#     Manipulate a NumPy Array\n",
    "#========================================================================================================"
   ]
  },
  {
   "cell_type": "code",
   "execution_count": 24,
   "metadata": {},
   "outputs": [
    {
     "data": {
      "text/plain": [
       "array([[36, 10, 10, 21, 22, 19],\n",
       "       [45, 21, 16, 22, 23, 43],\n",
       "       [11, 24, 23, 21, 27, 30]])"
      ]
     },
     "execution_count": 24,
     "metadata": {},
     "output_type": "execute_result"
    }
   ],
   "source": [
    "# In this section, we intend to test some methods of manipulating arrays. For this purpose a new two \n",
    "#dimensional array example will be considered.\n",
    "exampleArray2 = np.random.randint(50, size = (3, 6))\n",
    "exampleArray2"
   ]
  },
  {
   "cell_type": "code",
   "execution_count": 25,
   "metadata": {},
   "outputs": [
    {
     "data": {
      "text/plain": [
       "array([[36, 10, 10, 21, 22, 19],\n",
       "       [45, 21, 16, 22, 23, 43],\n",
       "       [11, 24, 23, 21, 27, 30]])"
      ]
     },
     "execution_count": 25,
     "metadata": {},
     "output_type": "execute_result"
    }
   ],
   "source": [
    "# COPY\n",
    "# Copy of the array to a new memory\n",
    "copyArray = np.copy(exampleArray2)\n",
    "copyArray"
   ]
  },
  {
   "cell_type": "code",
   "execution_count": 26,
   "metadata": {},
   "outputs": [
    {
     "data": {
      "text/plain": [
       "array([[36, 10, 10, 21, 22, 19],\n",
       "       [45, 21, 16, 22, 23, 43],\n",
       "       [11, 24, 23, 21, 27, 30]])"
      ]
     },
     "execution_count": 26,
     "metadata": {},
     "output_type": "execute_result"
    }
   ],
   "source": [
    "# Deep copy of the array \n",
    "copyArray2 = exampleArray2.copy()\n",
    "copyArray2"
   ]
  },
  {
   "cell_type": "code",
   "execution_count": 27,
   "metadata": {},
   "outputs": [
    {
     "data": {
      "text/plain": [
       "array([[36, 10, 10, 21, 22, 19],\n",
       "       [45, 21, 16, 22, 23, 43],\n",
       "       [11, 24, 23, 21, 27, 30]])"
      ]
     },
     "execution_count": 27,
     "metadata": {},
     "output_type": "execute_result"
    }
   ],
   "source": [
    "# View of the array with the same data\n",
    "viewArray = exampleArray2.view() \n",
    "viewArray"
   ]
  },
  {
   "cell_type": "code",
   "execution_count": 28,
   "metadata": {},
   "outputs": [
    {
     "data": {
      "text/plain": [
       "array([[11, 10, 10, 21, 22, 19],\n",
       "       [36, 21, 16, 21, 23, 30],\n",
       "       [45, 24, 23, 22, 27, 43]])"
      ]
     },
     "execution_count": 28,
     "metadata": {},
     "output_type": "execute_result"
    }
   ],
   "source": [
    "# SORT\n",
    "# Sort the elements of an array's axis\n",
    "exampleArray2.sort(axis = 0)\n",
    "exampleArray2"
   ]
  },
  {
   "cell_type": "code",
   "execution_count": 29,
   "metadata": {},
   "outputs": [
    {
     "data": {
      "text/plain": [
       "array([[10, 10, 11, 19, 21, 22],\n",
       "       [16, 21, 21, 23, 30, 36],\n",
       "       [22, 23, 24, 27, 43, 45]])"
      ]
     },
     "execution_count": 29,
     "metadata": {},
     "output_type": "execute_result"
    }
   ],
   "source": [
    "# Sort an array\n",
    "exampleArray2.sort()\n",
    "exampleArray2"
   ]
  },
  {
   "cell_type": "code",
   "execution_count": 30,
   "metadata": {},
   "outputs": [
    {
     "data": {
      "text/plain": [
       "array([[10, 16, 22],\n",
       "       [10, 21, 23],\n",
       "       [11, 21, 24],\n",
       "       [19, 23, 27],\n",
       "       [21, 30, 43],\n",
       "       [22, 36, 45]])"
      ]
     },
     "execution_count": 30,
     "metadata": {},
     "output_type": "execute_result"
    }
   ],
   "source": [
    "# TRANSPOSE\n",
    "# Permute array dimensions (rows become columns and vice versa)\n",
    "exampleArray2.T"
   ]
  },
  {
   "cell_type": "code",
   "execution_count": 31,
   "metadata": {},
   "outputs": [
    {
     "data": {
      "text/plain": [
       "array([[10, 16, 22],\n",
       "       [10, 21, 23],\n",
       "       [11, 21, 24],\n",
       "       [19, 23, 27],\n",
       "       [21, 30, 43],\n",
       "       [22, 36, 45]])"
      ]
     },
     "execution_count": 31,
     "metadata": {},
     "output_type": "execute_result"
    }
   ],
   "source": [
    "# Permute array dimensions (rows become columns and vice versa)\n",
    "transposeArray = np.transpose(exampleArray2)\n",
    "transposeArray"
   ]
  },
  {
   "cell_type": "code",
   "execution_count": 32,
   "metadata": {},
   "outputs": [
    {
     "data": {
      "text/plain": [
       "array([[10, 10, 11],\n",
       "       [19, 21, 22],\n",
       "       [16, 21, 21],\n",
       "       [23, 30, 36],\n",
       "       [22, 23, 24],\n",
       "       [27, 43, 45]])"
      ]
     },
     "execution_count": 32,
     "metadata": {},
     "output_type": "execute_result"
    }
   ],
   "source": [
    "# RESHAPE (Change array shape)\n",
    "# The reshape() method consists in changing the organization of the elements, thus altering the shape of \n",
    "#the array, but maintaining the same number of dimensions. For example, reshape() allows the conversion \n",
    "#of one dimensional array into a two dimensional array. \n",
    "# Reshape the array to 6 rows, 3 columns without changing data\n",
    "exampleArray2.reshape(6,3)"
   ]
  },
  {
   "cell_type": "code",
   "execution_count": 33,
   "metadata": {},
   "outputs": [
    {
     "data": {
      "text/plain": [
       "array([10, 10, 11, 19, 21, 22, 16, 21, 21, 23, 30, 36, 22, 23, 24, 27, 43,\n",
       "       45])"
      ]
     },
     "execution_count": 33,
     "metadata": {},
     "output_type": "execute_result"
    }
   ],
   "source": [
    "# FLATTEN (Change array shape)\n",
    "# The flatten() method converts a multidimensional array into one dimensional array.\n",
    "flattenArray = exampleArray2.flatten() \n",
    "flattenArray"
   ]
  },
  {
   "cell_type": "code",
   "execution_count": 34,
   "metadata": {},
   "outputs": [
    {
     "data": {
      "text/plain": [
       "array([10, 10, 11, 19, 21, 22, 16, 21, 21, 23, 30, 36, 22, 23, 24, 27, 43,\n",
       "       45])"
      ]
     },
     "execution_count": 34,
     "metadata": {},
     "output_type": "execute_result"
    }
   ],
   "source": [
    "# The ravel() method also converts a multidimensional array into one dimensional array.\n",
    "ravelArray = exampleArray2.ravel() \n",
    "ravelArray "
   ]
  },
  {
   "cell_type": "code",
   "execution_count": 136,
   "metadata": {},
   "outputs": [],
   "source": [
    "# Difference between flatten() and ravel()\n",
    "# Both are methods responsible for implementing flattening of arrays. The difference between flatten() \n",
    "#and ravel() is that the new array created through ravel() consists of a reference to the parent array. \n",
    "#This way, any changes to the new array will affect the parent too, without creating a copy. As shown \n",
    "#in the following example:"
   ]
  },
  {
   "cell_type": "code",
   "execution_count": 35,
   "metadata": {},
   "outputs": [
    {
     "data": {
      "text/plain": [
       "array([ 5, 10, 11, 19, 21, 22, 16, 21, 21, 23, 30, 36, 22, 23, 24, 27, 43,\n",
       "       45])"
      ]
     },
     "execution_count": 35,
     "metadata": {},
     "output_type": "execute_result"
    }
   ],
   "source": [
    "#New array created with flatten()\n",
    "# Change the new array created with flatten()\n",
    "flattenArray[0] = 5\n",
    "flattenArray"
   ]
  },
  {
   "cell_type": "code",
   "execution_count": 36,
   "metadata": {},
   "outputs": [
    {
     "data": {
      "text/plain": [
       "array([[10, 10, 11, 19, 21, 22],\n",
       "       [16, 21, 21, 23, 30, 36],\n",
       "       [22, 23, 24, 27, 43, 45]])"
      ]
     },
     "execution_count": 36,
     "metadata": {},
     "output_type": "execute_result"
    }
   ],
   "source": [
    "# Parent array after changing the new array (flattenArray)\n",
    "exampleArray2"
   ]
  },
  {
   "cell_type": "code",
   "execution_count": 37,
   "metadata": {},
   "outputs": [
    {
     "data": {
      "text/plain": [
       "array([ 5, 10, 11, 19, 21, 22, 16, 21, 21, 23, 30, 36, 22, 23, 24, 27, 43,\n",
       "       45])"
      ]
     },
     "execution_count": 37,
     "metadata": {},
     "output_type": "execute_result"
    }
   ],
   "source": [
    "# Change the new array created with ravel()\n",
    "ravelArray[0] = 5\n",
    "ravelArray "
   ]
  },
  {
   "cell_type": "code",
   "execution_count": 38,
   "metadata": {},
   "outputs": [
    {
     "data": {
      "text/plain": [
       "array([[ 5, 10, 11, 19, 21, 22],\n",
       "       [16, 21, 21, 23, 30, 36],\n",
       "       [22, 23, 24, 27, 43, 45]])"
      ]
     },
     "execution_count": 38,
     "metadata": {},
     "output_type": "execute_result"
    }
   ],
   "source": [
    "# Parent array after changing the new array (ravelArray)\n",
    "exampleArray2"
   ]
  },
  {
   "cell_type": "code",
   "execution_count": 39,
   "metadata": {},
   "outputs": [
    {
     "data": {
      "text/plain": [
       "array([[ 5, 10, 11],\n",
       "       [19, 21, 22],\n",
       "       [16, 21, 21],\n",
       "       [23, 30, 36],\n",
       "       [22, 23, 24],\n",
       "       [27, 43, 45]])"
      ]
     },
     "execution_count": 39,
     "metadata": {},
     "output_type": "execute_result"
    }
   ],
   "source": [
    "# RESIZE\n",
    "# Change array shape to 6x3 \n",
    "exampleArray2.resize((6,3)) \n",
    "exampleArray2"
   ]
  },
  {
   "cell_type": "code",
   "execution_count": 40,
   "metadata": {},
   "outputs": [
    {
     "data": {
      "text/plain": [
       "array([ 5, 10, 11, 19, 21, 22, 16, 21, 21, 23, 30, 36, 22, 23, 24, 27, 43,\n",
       "       45,  1,  4,  8])"
      ]
     },
     "execution_count": 40,
     "metadata": {},
     "output_type": "execute_result"
    }
   ],
   "source": [
    "# APPEND\n",
    "# Append values to end of array\n",
    "# Syntax of NumPy append:\n",
    "    # arr = original array to append the new values\n",
    "    # values = new values to append to the original array  \n",
    "    # axis = axis along which append the new values (optional)\n",
    "np.append(arr = exampleArray2, values =  [1, 4, 8]) "
   ]
  },
  {
   "cell_type": "code",
   "execution_count": 41,
   "metadata": {},
   "outputs": [
    {
     "data": {
      "text/plain": [
       "array([ 1,  4,  8,  5, 10, 11, 19, 21, 22, 16, 21, 21, 23, 30, 36, 22, 23,\n",
       "       24, 27, 43, 45])"
      ]
     },
     "execution_count": 41,
     "metadata": {},
     "output_type": "execute_result"
    }
   ],
   "source": [
    "# INSERT\n",
    "# Insert values into array before index 0\n",
    "np.insert(arr = exampleArray2, obj = 0, values =  [1, 4, 8]) "
   ]
  },
  {
   "cell_type": "code",
   "execution_count": 42,
   "metadata": {},
   "outputs": [
    {
     "data": {
      "text/plain": [
       "array([[19, 21, 22],\n",
       "       [16, 21, 21],\n",
       "       [23, 30, 36],\n",
       "       [22, 23, 24],\n",
       "       [27, 43, 45]])"
      ]
     },
     "execution_count": 42,
     "metadata": {},
     "output_type": "execute_result"
    }
   ],
   "source": [
    "# DELETE\n",
    "# Delete row on index 3 of array\n",
    "np.delete(arr = exampleArray2, obj = 0, axis = 0)"
   ]
  },
  {
   "cell_type": "code",
   "execution_count": 43,
   "metadata": {},
   "outputs": [
    {
     "data": {
      "text/plain": [
       "array([[ 5,  2, 10,  0],\n",
       "       [18, 39, 12, 43],\n",
       "       [ 1, 27, 31,  7]])"
      ]
     },
     "execution_count": 43,
     "metadata": {},
     "output_type": "execute_result"
    }
   ],
   "source": [
    "# CONCATENATE\n",
    "# This method allows to join 2 arrays\n",
    "# In this example 2 new arrays with the same dimensions will be created.\n",
    "exampleArray3 = np.random.randint(50, size = (3, 4))\n",
    "exampleArray3"
   ]
  },
  {
   "cell_type": "code",
   "execution_count": 44,
   "metadata": {},
   "outputs": [
    {
     "data": {
      "text/plain": [
       "array([[21,  8, 12, 24],\n",
       "       [ 2, 31,  5, 28],\n",
       "       [31, 24,  6, 39]])"
      ]
     },
     "execution_count": 44,
     "metadata": {},
     "output_type": "execute_result"
    }
   ],
   "source": [
    "exampleArray4 = np.random.randint(50, size = (3, 4))\n",
    "exampleArray4"
   ]
  },
  {
   "cell_type": "code",
   "execution_count": 45,
   "metadata": {},
   "outputs": [
    {
     "data": {
      "text/plain": [
       "array([[ 5,  2, 10,  0],\n",
       "       [18, 39, 12, 43],\n",
       "       [ 1, 27, 31,  7],\n",
       "       [21,  8, 12, 24],\n",
       "       [ 2, 31,  5, 28],\n",
       "       [31, 24,  6, 39]])"
      ]
     },
     "execution_count": 45,
     "metadata": {},
     "output_type": "execute_result"
    }
   ],
   "source": [
    "# Adds exampleArray4 as rows to the end of exampleArray3\n",
    "np.concatenate((exampleArray3, exampleArray4), axis = 0)"
   ]
  },
  {
   "cell_type": "code",
   "execution_count": 46,
   "metadata": {},
   "outputs": [
    {
     "data": {
      "text/plain": [
       "array([[ 5,  2, 10,  0, 21,  8, 12, 24],\n",
       "       [18, 39, 12, 43,  2, 31,  5, 28],\n",
       "       [ 1, 27, 31,  7, 31, 24,  6, 39]])"
      ]
     },
     "execution_count": 46,
     "metadata": {},
     "output_type": "execute_result"
    }
   ],
   "source": [
    "# Adds exampleArray4 as columns to end of exampleArray3\n",
    "np.concatenate((exampleArray3, exampleArray4), axis = 1)"
   ]
  },
  {
   "cell_type": "code",
   "execution_count": 47,
   "metadata": {},
   "outputs": [
    {
     "data": {
      "text/plain": [
       "[array([[ 5,  2, 10,  0]]),\n",
       " array([[18, 39, 12, 43]]),\n",
       " array([[ 1, 27, 31,  7]])]"
      ]
     },
     "execution_count": 47,
     "metadata": {},
     "output_type": "execute_result"
    }
   ],
   "source": [
    "# SPLIT\n",
    "# Splits exampleArray3 into 3 sub-arrays\n",
    "np.split(exampleArray3, 3)"
   ]
  },
  {
   "cell_type": "code",
   "execution_count": 48,
   "metadata": {},
   "outputs": [
    {
     "data": {
      "text/plain": [
       "[array([[ 5,  2],\n",
       "        [18, 39],\n",
       "        [ 1, 27]]), array([[10,  0],\n",
       "        [12, 43],\n",
       "        [31,  7]])]"
      ]
     },
     "execution_count": 48,
     "metadata": {},
     "output_type": "execute_result"
    }
   ],
   "source": [
    "# Splits exampleArray3 horizontally on the second index\n",
    "np.hsplit(exampleArray3, 2)"
   ]
  },
  {
   "cell_type": "code",
   "execution_count": 49,
   "metadata": {},
   "outputs": [
    {
     "data": {
      "text/plain": [
       "[array([[ 5,  2, 10,  0]]),\n",
       " array([[18, 39, 12, 43]]),\n",
       " array([[ 1, 27, 31,  7]])]"
      ]
     },
     "execution_count": 49,
     "metadata": {},
     "output_type": "execute_result"
    }
   ],
   "source": [
    "# Splits exampleArray3 vertically on the third index\n",
    "np.vsplit(exampleArray3, 3)"
   ]
  },
  {
   "cell_type": "code",
   "execution_count": null,
   "metadata": {},
   "outputs": [],
   "source": [
    "#========================================================================================================\n",
    "#     Index/slice/subset a NumPy Array\n",
    "#========================================================================================================"
   ]
  },
  {
   "cell_type": "code",
   "execution_count": 50,
   "metadata": {},
   "outputs": [
    {
     "data": {
      "text/plain": [
       "28"
      ]
     },
     "execution_count": 50,
     "metadata": {},
     "output_type": "execute_result"
    }
   ],
   "source": [
    "# To access an element of an array, its index number is used. Like the Python lists, NumPy arrays are \n",
    "#indexed with zero. For example, the third element of the array has an index equal to two.\n",
    "# Returns the element at index 2\n",
    "exampleArray[2]\n",
    "# In this example, the third element (second index) corresponds to the digit 28."
   ]
  },
  {
   "cell_type": "code",
   "execution_count": 55,
   "metadata": {},
   "outputs": [
    {
     "data": {
      "text/plain": [
       "12"
      ]
     },
     "execution_count": 55,
     "metadata": {},
     "output_type": "execute_result"
    }
   ],
   "source": [
    "# Like 1-D arrays, the two-dimensional NumPy arrays also follow the zero-based index, that is, to access \n",
    "#an element of the array it  is necessary to consider the first row and the first column with an index \n",
    "#equal to zero.\n",
    "# Returns the 2D array element on index [1][2]\n",
    "exampleArray3[1, 2]\n",
    "# The digit 12 will be returned as the element present in the first row and second column of the array."
   ]
  },
  {
   "cell_type": "code",
   "execution_count": 56,
   "metadata": {},
   "outputs": [
    {
     "data": {
      "text/plain": [
       "array([10, 29, 28, 35,  8, 30, 37, 16, 34,  8])"
      ]
     },
     "execution_count": 56,
     "metadata": {},
     "output_type": "execute_result"
    }
   ],
   "source": [
    "# To replace an element in the array, consider its index and assign the new value.\n",
    "# Assigns array element on index 0 the value 10\n",
    "exampleArray[0] = 10\n",
    "exampleArray"
   ]
  },
  {
   "cell_type": "code",
   "execution_count": 57,
   "metadata": {},
   "outputs": [
    {
     "data": {
      "text/plain": [
       "array([[ 5,  2, 10,  0],\n",
       "       [18, 39, 12, 43],\n",
       "       [ 1, 27, 31,  0]])"
      ]
     },
     "execution_count": 57,
     "metadata": {},
     "output_type": "execute_result"
    }
   ],
   "source": [
    "# Assigns 2D array element on index [2][3] the value 0\n",
    "exampleArray3[2, 3] = 0 \n",
    "exampleArray3"
   ]
  },
  {
   "cell_type": "code",
   "execution_count": 58,
   "metadata": {},
   "outputs": [
    {
     "data": {
      "text/plain": [
       "array([10, 29, 28, 35])"
      ]
     },
     "execution_count": 58,
     "metadata": {},
     "output_type": "execute_result"
    }
   ],
   "source": [
    "# Returns the elements at indices 0,1,2,3 (On a 2D array: returns rows 0,1,2)\n",
    "exampleArray[0:4]"
   ]
  },
  {
   "cell_type": "code",
   "execution_count": 60,
   "metadata": {},
   "outputs": [
    {
     "data": {
      "text/plain": [
       "array([ 2, 39, 27])"
      ]
     },
     "execution_count": 60,
     "metadata": {},
     "output_type": "execute_result"
    }
   ],
   "source": [
    "# On a 2D array, returns the elements on rows 0,1,2 at column 1\n",
    "exampleArray3[0:3, 1] "
   ]
  },
  {
   "cell_type": "code",
   "execution_count": 61,
   "metadata": {},
   "outputs": [
    {
     "data": {
      "text/plain": [
       "array([10, 29])"
      ]
     },
     "execution_count": 61,
     "metadata": {},
     "output_type": "execute_result"
    }
   ],
   "source": [
    "# Returns the elements at indices 0,1 (On a 2D array: returns rows 0,1)\n",
    "exampleArray[:2] "
   ]
  },
  {
   "cell_type": "code",
   "execution_count": null,
   "metadata": {},
   "outputs": [],
   "source": [
    "# Returns the elements at index 1 on all rows\n",
    "exampleArray[:, 1]"
   ]
  },
  {
   "cell_type": "code",
   "execution_count": 66,
   "metadata": {},
   "outputs": [
    {
     "data": {
      "text/plain": [
       "array([ True, False, False, False,  True, False, False, False, False,\n",
       "        True])"
      ]
     },
     "execution_count": 66,
     "metadata": {},
     "output_type": "execute_result"
    }
   ],
   "source": [
    "# Returns an array with boolean values\n",
    "exampleArray < 15"
   ]
  },
  {
   "cell_type": "code",
   "execution_count": 74,
   "metadata": {},
   "outputs": [
    {
     "data": {
      "text/plain": [
       "array([False, False, False, False, False, False, False,  True, False,\n",
       "       False])"
      ]
     },
     "execution_count": 74,
     "metadata": {},
     "output_type": "execute_result"
    }
   ],
   "source": [
    "# Returns an array with boolean values\n",
    "(exampleArray < 20) & (exampleArray > 15)"
   ]
  },
  {
   "cell_type": "code",
   "execution_count": 75,
   "metadata": {},
   "outputs": [
    {
     "data": {
      "text/plain": [
       "array([-11, -30, -29, -36,  -9, -31, -38, -17, -35,  -9], dtype=int32)"
      ]
     },
     "execution_count": 75,
     "metadata": {},
     "output_type": "execute_result"
    }
   ],
   "source": [
    "# Inverts a boolean array\n",
    "~exampleArray  "
   ]
  },
  {
   "cell_type": "code",
   "execution_count": 76,
   "metadata": {},
   "outputs": [
    {
     "data": {
      "text/plain": [
       "array([10,  8, 16,  8])"
      ]
     },
     "execution_count": 76,
     "metadata": {},
     "output_type": "execute_result"
    }
   ],
   "source": [
    "# Returns array elements smaller than 20\n",
    "exampleArray[exampleArray < 20]"
   ]
  },
  {
   "cell_type": "code",
   "execution_count": null,
   "metadata": {},
   "outputs": [],
   "source": [
    "#========================================================================================================\n",
    "#     Array Mathematics\n",
    "#========================================================================================================"
   ]
  },
  {
   "cell_type": "code",
   "execution_count": 78,
   "metadata": {},
   "outputs": [
    {
     "data": {
      "text/plain": [
       "array([12, 31, 30, 37, 10, 32, 39, 18, 36, 10])"
      ]
     },
     "execution_count": 78,
     "metadata": {},
     "output_type": "execute_result"
    }
   ],
   "source": [
    "# SCALAR MATH\n",
    "# Add 2 to each array element\n",
    "np.add(exampleArray, 2)"
   ]
  },
  {
   "cell_type": "code",
   "execution_count": 80,
   "metadata": {},
   "outputs": [
    {
     "data": {
      "text/plain": [
       "array([ 9, 28, 27, 34,  7, 29, 36, 15, 33,  7])"
      ]
     },
     "execution_count": 80,
     "metadata": {},
     "output_type": "execute_result"
    }
   ],
   "source": [
    "# Subtract 1 from each array element\n",
    "np.subtract(exampleArray, 1) "
   ]
  },
  {
   "cell_type": "code",
   "execution_count": 81,
   "metadata": {},
   "outputs": [
    {
     "data": {
      "text/plain": [
       "array([ 50, 145, 140, 175,  40, 150, 185,  80, 170,  40])"
      ]
     },
     "execution_count": 81,
     "metadata": {},
     "output_type": "execute_result"
    }
   ],
   "source": [
    "# Multiply each array element by 5\n",
    "np.multiply(exampleArray, 5)"
   ]
  },
  {
   "cell_type": "code",
   "execution_count": 82,
   "metadata": {},
   "outputs": [
    {
     "data": {
      "text/plain": [
       "array([ 5. , 14.5, 14. , 17.5,  4. , 15. , 18.5,  8. , 17. ,  4. ])"
      ]
     },
     "execution_count": 82,
     "metadata": {},
     "output_type": "execute_result"
    }
   ],
   "source": [
    "# Divide each array element by 2 (returns np.nan for division by zero)\n",
    "np.divide(exampleArray, 2) "
   ]
  },
  {
   "cell_type": "code",
   "execution_count": 84,
   "metadata": {},
   "outputs": [
    {
     "data": {
      "text/plain": [
       "array([ 100,  841,  784, 1225,   64,  900, 1369,  256, 1156,   64],\n",
       "      dtype=int32)"
      ]
     },
     "execution_count": 84,
     "metadata": {},
     "output_type": "execute_result"
    }
   ],
   "source": [
    "# Raise each array element to the second power\n",
    "np.power(exampleArray, 2) "
   ]
  },
  {
   "cell_type": "code",
   "execution_count": 86,
   "metadata": {},
   "outputs": [
    {
     "data": {
      "text/plain": [
       "array([[2, 4, 6],\n",
       "       [4, 5, 1],\n",
       "       [5, 8, 5]])"
      ]
     },
     "execution_count": 86,
     "metadata": {},
     "output_type": "execute_result"
    }
   ],
   "source": [
    "# VECTOR MATH\n",
    "array1 = np.random.randint(10, size = (3, 3))\n",
    "array1"
   ]
  },
  {
   "cell_type": "code",
   "execution_count": 87,
   "metadata": {},
   "outputs": [
    {
     "data": {
      "text/plain": [
       "array([[7, 6, 7],\n",
       "       [9, 9, 9],\n",
       "       [4, 9, 1]])"
      ]
     },
     "execution_count": 87,
     "metadata": {},
     "output_type": "execute_result"
    }
   ],
   "source": [
    "array2 = np.random.randint(10, size = (3, 3))\n",
    "array2"
   ]
  },
  {
   "cell_type": "code",
   "execution_count": 89,
   "metadata": {},
   "outputs": [
    {
     "data": {
      "text/plain": [
       "array([[ 9, 10, 13],\n",
       "       [13, 14, 10],\n",
       "       [ 9, 17,  6]])"
      ]
     },
     "execution_count": 89,
     "metadata": {},
     "output_type": "execute_result"
    }
   ],
   "source": [
    "# Add array2 to array1\n",
    "np.add(array1, array2) "
   ]
  },
  {
   "cell_type": "code",
   "execution_count": null,
   "metadata": {},
   "outputs": [],
   "source": [
    "# Subtract array2 from array1\n",
    "np.subtract(array1, array2) "
   ]
  },
  {
   "cell_type": "code",
   "execution_count": null,
   "metadata": {},
   "outputs": [],
   "source": [
    "# Multiply array1 by array2\n",
    "np.multiply(array1, array2) "
   ]
  },
  {
   "cell_type": "code",
   "execution_count": null,
   "metadata": {},
   "outputs": [],
   "source": [
    "# Divide array1 by array2\n",
    "np.divide(array1, array2) "
   ]
  },
  {
   "cell_type": "code",
   "execution_count": 91,
   "metadata": {},
   "outputs": [
    {
     "data": {
      "text/plain": [
       "array([[      128,      4096,    279936],\n",
       "       [   262144,   1953125,         1],\n",
       "       [      625, 134217728,         5]], dtype=int32)"
      ]
     },
     "execution_count": 91,
     "metadata": {},
     "output_type": "execute_result"
    }
   ],
   "source": [
    "# Raise array1 raised to the power of array2\n",
    "np.power(array1, array2)"
   ]
  },
  {
   "cell_type": "code",
   "execution_count": 93,
   "metadata": {},
   "outputs": [
    {
     "data": {
      "text/plain": [
       "array([[1.41421356, 2.        , 2.44948974],\n",
       "       [2.        , 2.23606798, 1.        ],\n",
       "       [2.23606798, 2.82842712, 2.23606798]])"
      ]
     },
     "execution_count": 93,
     "metadata": {},
     "output_type": "execute_result"
    }
   ],
   "source": [
    "# Square root of each element in the array\n",
    "np.sqrt(array1)"
   ]
  },
  {
   "cell_type": "code",
   "execution_count": 98,
   "metadata": {},
   "outputs": [
    {
     "data": {
      "text/plain": [
       "array([[7.38905610e+00, 5.45981500e+01, 4.03428793e+02],\n",
       "       [5.45981500e+01, 1.48413159e+02, 2.71828183e+00],\n",
       "       [1.48413159e+02, 2.98095799e+03, 1.48413159e+02]])"
      ]
     },
     "execution_count": 98,
     "metadata": {},
     "output_type": "execute_result"
    }
   ],
   "source": [
    "# Exponent of each element in the matrix\n",
    "np.exp(array1)"
   ]
  },
  {
   "cell_type": "code",
   "execution_count": 94,
   "metadata": {},
   "outputs": [
    {
     "data": {
      "text/plain": [
       "array([[ 0.90929743, -0.7568025 , -0.2794155 ],\n",
       "       [-0.7568025 , -0.95892427,  0.84147098],\n",
       "       [-0.95892427,  0.98935825, -0.95892427]])"
      ]
     },
     "execution_count": 94,
     "metadata": {},
     "output_type": "execute_result"
    }
   ],
   "source": [
    "# Sine of each element in the array\n",
    "np.sin(array1) "
   ]
  },
  {
   "cell_type": "code",
   "execution_count": 99,
   "metadata": {},
   "outputs": [
    {
     "data": {
      "text/plain": [
       "array([[-0.41614684, -0.65364362,  0.96017029],\n",
       "       [-0.65364362,  0.28366219,  0.54030231],\n",
       "       [ 0.28366219, -0.14550003,  0.28366219]])"
      ]
     },
     "execution_count": 99,
     "metadata": {},
     "output_type": "execute_result"
    }
   ],
   "source": [
    "# Cosine of each element in the matrix\n",
    "np.cos(array1)"
   ]
  },
  {
   "cell_type": "code",
   "execution_count": 95,
   "metadata": {},
   "outputs": [
    {
     "data": {
      "text/plain": [
       "array([[0.69314718, 1.38629436, 1.79175947],\n",
       "       [1.38629436, 1.60943791, 0.        ],\n",
       "       [1.60943791, 2.07944154, 1.60943791]])"
      ]
     },
     "execution_count": 95,
     "metadata": {},
     "output_type": "execute_result"
    }
   ],
   "source": [
    "# Natural log of each element in the array\n",
    "np.log(array1) "
   ]
  },
  {
   "cell_type": "code",
   "execution_count": 96,
   "metadata": {},
   "outputs": [
    {
     "data": {
      "text/plain": [
       "array([[2, 4, 6],\n",
       "       [4, 5, 1],\n",
       "       [5, 8, 5]])"
      ]
     },
     "execution_count": 96,
     "metadata": {},
     "output_type": "execute_result"
    }
   ],
   "source": [
    "# Absolute value of each element in the array\n",
    "np.abs(array1) "
   ]
  },
  {
   "cell_type": "code",
   "execution_count": 97,
   "metadata": {},
   "outputs": [
    {
     "data": {
      "text/plain": [
       "array([[2, 4, 6],\n",
       "       [4, 5, 1],\n",
       "       [5, 8, 5]])"
      ]
     },
     "execution_count": 97,
     "metadata": {},
     "output_type": "execute_result"
    }
   ],
   "source": [
    "# Rounds up to the nearest int\n",
    "np.round(array1) "
   ]
  },
  {
   "cell_type": "code",
   "execution_count": 101,
   "metadata": {},
   "outputs": [
    {
     "data": {
      "text/plain": [
       "array([[False, False, False],\n",
       "       [False, False, False],\n",
       "       [False, False, False]])"
      ]
     },
     "execution_count": 101,
     "metadata": {},
     "output_type": "execute_result"
    }
   ],
   "source": [
    "# ARRAYS COMPARISON\n",
    "# Compare array1 with array2\n",
    "array1 == array2"
   ]
  },
  {
   "cell_type": "code",
   "execution_count": 102,
   "metadata": {},
   "outputs": [
    {
     "data": {
      "text/plain": [
       "array([[ True,  True,  True],\n",
       "       [ True,  True,  True],\n",
       "       [False,  True, False]])"
      ]
     },
     "execution_count": 102,
     "metadata": {},
     "output_type": "execute_result"
    }
   ],
   "source": [
    "# Compare array1 with array2\n",
    "array1 < array2"
   ]
  },
  {
   "cell_type": "code",
   "execution_count": null,
   "metadata": {},
   "outputs": [],
   "source": [
    "# Arrays have the same elements and shape\n",
    "np.array_equal(array1, array2)"
   ]
  },
  {
   "cell_type": "code",
   "execution_count": 103,
   "metadata": {},
   "outputs": [
    {
     "data": {
      "text/plain": [
       "array([3.66666667, 5.66666667, 4.        ])"
      ]
     },
     "execution_count": 103,
     "metadata": {},
     "output_type": "execute_result"
    }
   ],
   "source": [
    "# STATISTICS\n",
    "# Returns mean along specific axis\n",
    "np.mean(array1, axis = 0)"
   ]
  },
  {
   "cell_type": "code",
   "execution_count": 104,
   "metadata": {},
   "outputs": [
    {
     "data": {
      "text/plain": [
       "40"
      ]
     },
     "execution_count": 104,
     "metadata": {},
     "output_type": "execute_result"
    }
   ],
   "source": [
    "# Returns sum of array\n",
    "array1.sum() "
   ]
  },
  {
   "cell_type": "code",
   "execution_count": 105,
   "metadata": {},
   "outputs": [
    {
     "data": {
      "text/plain": [
       "1"
      ]
     },
     "execution_count": 105,
     "metadata": {},
     "output_type": "execute_result"
    }
   ],
   "source": [
    "# Returns minimum value of array\n",
    "array1.min() "
   ]
  },
  {
   "cell_type": "code",
   "execution_count": null,
   "metadata": {},
   "outputs": [],
   "source": [
    "# Returns maximum value of specific axis\n",
    "array1.max(axis = 0) "
   ]
  },
  {
   "cell_type": "code",
   "execution_count": 106,
   "metadata": {},
   "outputs": [
    {
     "data": {
      "text/plain": [
       "3.802469135802469"
      ]
     },
     "execution_count": 106,
     "metadata": {},
     "output_type": "execute_result"
    }
   ],
   "source": [
    "# Returns the variance of array\n",
    "np.var(array1)"
   ]
  },
  {
   "cell_type": "code",
   "execution_count": 108,
   "metadata": {},
   "outputs": [
    {
     "data": {
      "text/plain": [
       "array([1.63299316, 1.69967317, 1.41421356])"
      ]
     },
     "execution_count": 108,
     "metadata": {},
     "output_type": "execute_result"
    }
   ],
   "source": [
    "# Returns the standard deviation of specific axis\n",
    "np.std(array1, axis = 1)"
   ]
  }
 ],
 "metadata": {
  "kernelspec": {
   "display_name": "Python 3",
   "language": "python",
   "name": "python3"
  },
  "language_info": {
   "codemirror_mode": {
    "name": "ipython",
    "version": 3
   },
   "file_extension": ".py",
   "mimetype": "text/x-python",
   "name": "python",
   "nbconvert_exporter": "python",
   "pygments_lexer": "ipython3",
   "version": "3.6.5"
  }
 },
 "nbformat": 4,
 "nbformat_minor": 2
}
